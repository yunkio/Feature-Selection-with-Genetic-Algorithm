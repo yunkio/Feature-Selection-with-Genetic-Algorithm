{
 "cells": [
  {
   "cell_type": "code",
   "execution_count": 31,
   "id": "9d2a1036-139a-44a6-ab4d-25f5592e7a8b",
   "metadata": {},
   "outputs": [],
   "source": [
    "import numpy as np\n",
    "import pandas as pd\n",
    "import random\n",
    "import sklearn.preprocessing\n",
    "import statsmodels.api as sm\n",
    "from sklearn.datasets import load_breast_cancer\n",
    "from sklearn.linear_model import LogisticRegression\n",
    "\n",
    "import matplotlib.pyplot as plt\n",
    "from tqdm import tqdm\n"
   ]
  },
  {
   "cell_type": "markdown",
   "id": "bcb2c152-31b3-4b85-9151-c1f5b0d4c99d",
   "metadata": {},
   "source": [
    "## Step 0. 데이터 준비"
   ]
  },
  {
   "cell_type": "code",
   "execution_count": 2,
   "id": "e1dd0f35-1e99-4353-bb1a-05ad9d2a8cb6",
   "metadata": {},
   "outputs": [],
   "source": [
    "# data = pd.read_csv('data/Housesales/kc_house_data.csv')\n",
    "# # 출처 : https://www.kaggle.com/datasets/shivachandel/kc-house-data"
   ]
  },
  {
   "cell_type": "code",
   "execution_count": 3,
   "id": "3a39ec27-e42a-4cc5-9f9a-4e58027bfe3d",
   "metadata": {},
   "outputs": [],
   "source": [
    "# X = data.drop(['price', 'date', 'id'], axis=1)\n",
    "# columns = dict(zip(list(range(len(X.columns))), X.columns))\n",
    "# X = sklearn.preprocessing.normalize(X, axis=1)\n",
    "# y = data['price']"
   ]
  },
  {
   "cell_type": "code",
   "execution_count": 4,
   "id": "f0542855-7639-435b-8867-0f8407dc79f7",
   "metadata": {},
   "outputs": [
    {
     "data": {
      "text/plain": [
       "0.6959337771808176"
      ]
     },
     "execution_count": 4,
     "metadata": {},
     "output_type": "execute_result"
    }
   ],
   "source": [
    "# X_selected = sm.add_constant(X)\n",
    "# model = sm.OLS(y, X_selected).fit()\n",
    "# score = model.rsquared_adj\n",
    "# score"
   ]
  },
  {
   "cell_type": "markdown",
   "id": "c313c470-2dbc-40f2-b8dd-0f1a1221c6c1",
   "metadata": {},
   "source": [
    "---"
   ]
  },
  {
   "cell_type": "code",
   "execution_count": 32,
   "id": "b4913152-7eb3-475a-94b9-1d6a6d734eaa",
   "metadata": {},
   "outputs": [],
   "source": [
    "data = load_breast_cancer()\n",
    "df = pd.DataFrame(data.data, columns=data.feature_names)\n",
    "df['target'] = data.target\n",
    "X = df.drop(['target'], axis=1)\n",
    "y = df['target'].astype(float)"
   ]
  },
  {
   "cell_type": "code",
   "execution_count": 33,
   "id": "8db41655-4209-47c4-9c10-e828f345a74e",
   "metadata": {},
   "outputs": [],
   "source": [
    "X = sklearn.preprocessing.normalize(X, axis=1)"
   ]
  },
  {
   "cell_type": "code",
   "execution_count": 35,
   "id": "0d3e570d-9955-4642-8413-a0fa7a54f635",
   "metadata": {},
   "outputs": [
    {
     "data": {
      "text/plain": [
       "0.8066783831282952"
      ]
     },
     "execution_count": 35,
     "metadata": {},
     "output_type": "execute_result"
    }
   ],
   "source": [
    "clf = LogisticRegression(random_state=0).fit(X, y)\n",
    "clf.score(X, y)"
   ]
  },
  {
   "cell_type": "markdown",
   "id": "42408474-4fed-44d8-9721-f3200803b726",
   "metadata": {},
   "source": [
    "## Step 1. 초기화"
   ]
  },
  {
   "cell_type": "code",
   "execution_count": 36,
   "id": "e084a821-c718-4f91-b3f8-d853ee5b65aa",
   "metadata": {},
   "outputs": [],
   "source": [
    "# Hyper Parameter\n",
    "population_size = 8\n",
    "cut_off = 0.8"
   ]
  },
  {
   "cell_type": "code",
   "execution_count": 37,
   "id": "ca70ffbf-3785-4c20-95ac-7e94687a3af2",
   "metadata": {},
   "outputs": [],
   "source": [
    "def make_chromosome(X, population_size, cut_off):\n",
    "    chromosome_list = []\n",
    "    for chromosome in range(population_size):\n",
    "        feature_random_number = []\n",
    "        for feature in range(X.shape[1]):    \n",
    "            if random.uniform(0,1) >= cut_off:\n",
    "                feature_random_number.append(1)\n",
    "            else:\n",
    "                feature_random_number.append(0)\n",
    "        chromosome_list.append(feature_random_number)\n",
    "    return chromosome_list"
   ]
  },
  {
   "cell_type": "code",
   "execution_count": 38,
   "id": "a95fb1cd-969f-4ebd-a56d-f04a99f87db3",
   "metadata": {},
   "outputs": [],
   "source": [
    "chromosome_list = make_chromosome(X, population_size, cut_off)"
   ]
  },
  {
   "cell_type": "markdown",
   "id": "2688c797-78d1-42c1-ae72-e634158b3344",
   "metadata": {},
   "source": [
    "## Step2. 모델 학습"
   ]
  },
  {
   "cell_type": "code",
   "execution_count": 39,
   "id": "4e9d6672-45ba-475a-b8e2-9ba7986f154a",
   "metadata": {},
   "outputs": [],
   "source": [
    "# def train_chromosome(X, chromosome_list, metric='adjusted_r_squared'):\n",
    "#     score_list = []\n",
    "#     for chromosome in range(population_size):\n",
    "#         indices = [i for i,x in enumerate(chromosome_list[chromosome]) if x == 1]\n",
    "#         X_selected = sm.add_constant(X[:,indices])\n",
    "#         model = sm.OLS(y, X_selected).fit()\n",
    "        \n",
    "#         if metric == 'adjusted_r_squared': \n",
    "#             score = model.rsquared_adj\n",
    "#         elif metric == 'rmse':\n",
    "#             score = np.sqrt(model.mse_resid)\n",
    "#         # score_rmse = np.sqrt(model.mse_resid)\n",
    "#         score_list.append(score)\n",
    "#     return score_list"
   ]
  },
  {
   "cell_type": "code",
   "execution_count": 40,
   "id": "471ae370-d247-4e9c-b52d-df1d65c5141d",
   "metadata": {},
   "outputs": [],
   "source": [
    "def train_chromosome(X, chromosome_list, metric='accuracy'):\n",
    "    score_list = []\n",
    "    for chromosome in range(population_size):\n",
    "        indices = [i for i,x in enumerate(chromosome_list[chromosome]) if x == 1]\n",
    "        X_selected = sm.add_constant(X[:,indices])\n",
    "        clf = LogisticRegression(random_state=0).fit(X, y)\n",
    "        \n",
    "        if metric == 'accuracy': \n",
    "            score = clf.score(X, y)\n",
    "        # score_rmse = np.sqrt(model.mse_resid)\n",
    "        score_list.append(score)\n",
    "    return score_list"
   ]
  },
  {
   "cell_type": "code",
   "execution_count": 42,
   "id": "1c4921bb-10de-4ae0-a3fc-165b0fd3cc05",
   "metadata": {},
   "outputs": [],
   "source": [
    "score_list = train_chromosome(X, chromosome_list, metric='accuracy')"
   ]
  },
  {
   "cell_type": "markdown",
   "id": "f4a911c5-9796-455a-a320-cda280f8f1b0",
   "metadata": {},
   "source": [
    "## Step3. 적합도 평가"
   ]
  },
  {
   "cell_type": "code",
   "execution_count": 46,
   "id": "b0a8823a-4173-4570-a9b2-e931ac77c462",
   "metadata": {},
   "outputs": [],
   "source": [
    "def evaluate_chromosome(X, score_list, chromosome_list):\n",
    "    seq = sorted(score_list, reverse=True)\n",
    "    rank = [seq.index(v) for v in score_list]\n",
    "    score_for_weight = score_list - min(score_list) \n",
    "    sum_score = sum(score_for_weight)\n",
    "    weight = [(score / sum_score) for score in score_for_weight]\n",
    "    feature_num = [sum(i) for i in chromosome_list]\n",
    "    eval_result = pd.DataFrame([score_list, rank, weight, feature_num]).T\n",
    "    eval_result.columns = ['score', 'rank', 'weight', 'feature_num']\n",
    "    eval_result['rank'] = eval_result.loc[:, ['rank']].astype('int')\n",
    "    eval_result['feature_num'] = eval_result.loc[:, ['feature_num']].astype('int')\n",
    "    elite = eval_result.drop_duplicates().sort_values(['rank', 'feature_num']).index[:2]\n",
    "    return eval_result, list(elite)"
   ]
  },
  {
   "cell_type": "code",
   "execution_count": 47,
   "id": "fb7fbd78-e75b-4a9e-8315-e8c5286c1173",
   "metadata": {},
   "outputs": [],
   "source": [
    "# def evaluate_chromosome(X, score_list, chromosome_list):\n",
    "#     seq = sorted(score_list)\n",
    "#     rank = [seq.index(v) for v in score_list]\n",
    "#     score_for_weight = max(score_list) - score_list # rmse\n",
    "#     sum_score = sum(score_for_weight)\n",
    "#     weight = [(score / sum_score) for score in score_for_weight]\n",
    "#     feature_num = [sum(i) for i in chromosome_list]\n",
    "#     eval_result = pd.DataFrame([score_list, rank, weight, feature_num]).T\n",
    "#     eval_result.columns = ['score', 'rank', 'weight', 'feature_num']\n",
    "#     eval_result['rank'] = eval_result.loc[:, ['rank']].astype('int')\n",
    "#     eval_result['feature_num'] = eval_result.loc[:, ['feature_num']].astype('int')\n",
    "#     elite = eval_result.drop_duplicates().sort_values(['rank', 'feature_num']).index[:2]\n",
    "#     return eval_result, list(elite)"
   ]
  },
  {
   "cell_type": "code",
   "execution_count": 48,
   "id": "436c6dba-2ad2-488b-9af8-8181d7e3cf61",
   "metadata": {},
   "outputs": [
    {
     "name": "stderr",
     "output_type": "stream",
     "text": [
      "<ipython-input-46-bf4b080225e2>:6: RuntimeWarning: invalid value encountered in double_scalars\n",
      "  weight = [(score / sum_score) for score in score_for_weight]\n"
     ]
    }
   ],
   "source": [
    "eval_result, elite = evaluate_chromosome(X, score_list, chromosome_list)"
   ]
  },
  {
   "cell_type": "code",
   "execution_count": 49,
   "id": "d8cc5167-a302-485d-a9ed-aa84717659c7",
   "metadata": {},
   "outputs": [
    {
     "data": {
      "text/html": [
       "<div>\n",
       "<style scoped>\n",
       "    .dataframe tbody tr th:only-of-type {\n",
       "        vertical-align: middle;\n",
       "    }\n",
       "\n",
       "    .dataframe tbody tr th {\n",
       "        vertical-align: top;\n",
       "    }\n",
       "\n",
       "    .dataframe thead th {\n",
       "        text-align: right;\n",
       "    }\n",
       "</style>\n",
       "<table border=\"1\" class=\"dataframe\">\n",
       "  <thead>\n",
       "    <tr style=\"text-align: right;\">\n",
       "      <th></th>\n",
       "      <th>score</th>\n",
       "      <th>rank</th>\n",
       "      <th>weight</th>\n",
       "      <th>feature_num</th>\n",
       "    </tr>\n",
       "  </thead>\n",
       "  <tbody>\n",
       "    <tr>\n",
       "      <th>0</th>\n",
       "      <td>0.806678</td>\n",
       "      <td>0</td>\n",
       "      <td>NaN</td>\n",
       "      <td>2</td>\n",
       "    </tr>\n",
       "    <tr>\n",
       "      <th>1</th>\n",
       "      <td>0.806678</td>\n",
       "      <td>0</td>\n",
       "      <td>NaN</td>\n",
       "      <td>11</td>\n",
       "    </tr>\n",
       "    <tr>\n",
       "      <th>2</th>\n",
       "      <td>0.806678</td>\n",
       "      <td>0</td>\n",
       "      <td>NaN</td>\n",
       "      <td>7</td>\n",
       "    </tr>\n",
       "    <tr>\n",
       "      <th>3</th>\n",
       "      <td>0.806678</td>\n",
       "      <td>0</td>\n",
       "      <td>NaN</td>\n",
       "      <td>8</td>\n",
       "    </tr>\n",
       "    <tr>\n",
       "      <th>4</th>\n",
       "      <td>0.806678</td>\n",
       "      <td>0</td>\n",
       "      <td>NaN</td>\n",
       "      <td>4</td>\n",
       "    </tr>\n",
       "    <tr>\n",
       "      <th>5</th>\n",
       "      <td>0.806678</td>\n",
       "      <td>0</td>\n",
       "      <td>NaN</td>\n",
       "      <td>7</td>\n",
       "    </tr>\n",
       "    <tr>\n",
       "      <th>6</th>\n",
       "      <td>0.806678</td>\n",
       "      <td>0</td>\n",
       "      <td>NaN</td>\n",
       "      <td>6</td>\n",
       "    </tr>\n",
       "    <tr>\n",
       "      <th>7</th>\n",
       "      <td>0.806678</td>\n",
       "      <td>0</td>\n",
       "      <td>NaN</td>\n",
       "      <td>4</td>\n",
       "    </tr>\n",
       "  </tbody>\n",
       "</table>\n",
       "</div>"
      ],
      "text/plain": [
       "      score  rank  weight  feature_num\n",
       "0  0.806678     0     NaN            2\n",
       "1  0.806678     0     NaN           11\n",
       "2  0.806678     0     NaN            7\n",
       "3  0.806678     0     NaN            8\n",
       "4  0.806678     0     NaN            4\n",
       "5  0.806678     0     NaN            7\n",
       "6  0.806678     0     NaN            6\n",
       "7  0.806678     0     NaN            4"
      ]
     },
     "execution_count": 49,
     "metadata": {},
     "output_type": "execute_result"
    }
   ],
   "source": [
    "eval_result"
   ]
  },
  {
   "cell_type": "markdown",
   "id": "527c0422-5ee4-4531-8f74-57259e3a5bf0",
   "metadata": {},
   "source": [
    "## Step4. 부모 염색체 선택"
   ]
  },
  {
   "cell_type": "code",
   "execution_count": 17,
   "id": "ee1ab7ee-1fb1-407f-8342-7ce908007586",
   "metadata": {},
   "outputs": [],
   "source": [
    "def select_parents(chromosome_list, eval_result):\n",
    "    selected = np.random.choice(range(len(chromosome_list)), 2, p=eval_result['weight'], replace=False)\n",
    "    parent_1, parent_2 = chromosome_list[selected[0]], chromosome_list[selected[1]]\n",
    "    return parent_1, parent_2"
   ]
  },
  {
   "cell_type": "code",
   "execution_count": 18,
   "id": "59035366-348a-493a-ab5e-16f4ce049a87",
   "metadata": {},
   "outputs": [],
   "source": [
    "parent_1, parent_2 = select_parents(chromosome_list, eval_result)"
   ]
  },
  {
   "cell_type": "markdown",
   "id": "0aa785fb-6e76-46ba-9727-11645b2f6f94",
   "metadata": {},
   "source": [
    "## Step5. 교배"
   ]
  },
  {
   "cell_type": "code",
   "execution_count": 19,
   "id": "4c55dfae-a172-41ba-a3e0-e31b8846fbed",
   "metadata": {},
   "outputs": [],
   "source": [
    "crossover_num = 5\n",
    "mutation_rate = 0.01"
   ]
  },
  {
   "cell_type": "code",
   "execution_count": 20,
   "id": "44f9ccfa-2a1b-4721-876f-7ab365ec79c6",
   "metadata": {},
   "outputs": [],
   "source": [
    "def crossover(parent_1, parent_2, crossover_num, mutation_rate):\n",
    "    \n",
    "    # make crossover point\n",
    "    crossover_point = list(sorted(np.random.choice(range(1, len(parent_1)), crossover_num, replace=False)))\n",
    "    crossover_point.append(len(parent_1))\n",
    "    \n",
    "    # split with crossover point\n",
    "    parent_1_list = []\n",
    "    parent_2_list = []\n",
    "    for i, v in enumerate(crossover_point):\n",
    "        if i == 0:\n",
    "            parent_1_list.append(parent_1[:v])\n",
    "            parent_2_list.append(parent_2[:v])\n",
    "        else:\n",
    "            parent_1_list.append(parent_1[crossover_point[i-1]:v])\n",
    "            parent_2_list.append(parent_2[crossover_point[i-1]:v])\n",
    "            \n",
    "    # make new generations\n",
    "    new_genes = []\n",
    "    \n",
    "    # crossover\n",
    "    child_1, child_2 = [], []\n",
    "    for j in range(crossover_num+1):\n",
    "        p = random.uniform(0,1)\n",
    "        if p <= 0.5 : \n",
    "            child_1 += parent_1_list[j]\n",
    "            child_2 += parent_2_list[j]\n",
    "        else:\n",
    "            child_1 += parent_2_list[j]\n",
    "            child_2 += parent_1_list[j]\n",
    "\n",
    "    # mutation\n",
    "    for k in range(len(child_1)):\n",
    "        if random.uniform(0,1) <= mutation_rate:\n",
    "            if child_1[k] == 0:\n",
    "                child_1[k] = 1\n",
    "            else:\n",
    "                child_1[k] = 0\n",
    "\n",
    "        if random.uniform(0,1) <= mutation_rate:\n",
    "            if child_2[k] == 0:\n",
    "                child_2[k] = 1\n",
    "            else:\n",
    "                child_2[k] = 0\n",
    "\n",
    "    new_genes.append(child_1)\n",
    "    new_genes.append(child_2)\n",
    "        \n",
    "    return new_genes"
   ]
  },
  {
   "cell_type": "code",
   "execution_count": 21,
   "id": "8c137cdd-e227-4f0d-ae34-b2e7449ff9dc",
   "metadata": {},
   "outputs": [],
   "source": [
    "new_genes = crossover(parent_1, parent_2, crossover_num, mutation_rate)"
   ]
  },
  {
   "cell_type": "markdown",
   "id": "4bbce8ca-bf2f-488c-89a4-2bd9345ec5f2",
   "metadata": {},
   "source": [
    "## Run Algorithm"
   ]
  },
  {
   "cell_type": "code",
   "execution_count": 22,
   "id": "62108873-1626-4256-a269-e89e713c320c",
   "metadata": {},
   "outputs": [],
   "source": [
    "# Hyper Parameter\n",
    "population_size = 32\n",
    "cut_off = 0.5\n",
    "crossover_num = 16\n",
    "mutation_rate = 0.03\n",
    "metric = 'adjusted_r_squared'"
   ]
  },
  {
   "cell_type": "code",
   "execution_count": 23,
   "id": "8fa137f6-82a4-4323-a390-ec693f06cc5b",
   "metadata": {},
   "outputs": [
    {
     "name": "stderr",
     "output_type": "stream",
     "text": [
      "100%|██████████████████████████████████████████████████████████████████████████████| 1000/1000 [04:16<00:00,  3.90it/s]\n"
     ]
    }
   ],
   "source": [
    "generation_num = 1000\n",
    "history = []\n",
    "elite_history = []\n",
    "for i in tqdm(range(generation_num)):\n",
    "    \n",
    "    if i == 0:\n",
    "        chromosome_list = make_chromosome(X, population_size, cut_off)\n",
    "    else:\n",
    "        chromosome_list = child_list\n",
    "    \n",
    "    score_list = train_chromosome(X, chromosome_list, metric)\n",
    "    \n",
    "    eval_result, elite = evaluate_chromosome(X, score_list, chromosome_list)\n",
    "    \n",
    "    child_list = [chromosome_list[elite[0]], chromosome_list[elite[1]]]\n",
    "    \n",
    "    for i in range(int((population_size/2) - 1)):\n",
    "        parent_1, parent_2 = select_parents(chromosome_list, eval_result)\n",
    "        new_genes = crossover(parent_1, parent_2, crossover_num, mutation_rate)\n",
    "        child_list += new_genes\n",
    "    \n",
    "    history.append(max(score_list)) # r-squared\n",
    "#     history.append(min(score_list)) # rmse\n",
    "    elite_history.append(chromosome_list[elite[0]])"
   ]
  },
  {
   "cell_type": "code",
   "execution_count": 26,
   "id": "1c4cd245-0f68-4360-89cb-edfe005de93c",
   "metadata": {},
   "outputs": [
    {
     "data": {
      "image/png": "[encoded data removed]",
      "text/plain": [
       "<Figure size 1440x720 with 1 Axes>"
      ]
     },
     "metadata": {
      "needs_background": "light"
     },
     "output_type": "display_data"
    }
   ],
   "source": [
    "plt.figure(figsize=(20, 10))\n",
    "plt.plot(history[0:])\n",
    "plt.show()"
   ]
  },
  {
   "cell_type": "code",
   "execution_count": null,
   "id": "8ef711e1-32ec-49c1-953b-762c073cacf6",
   "metadata": {},
   "outputs": [],
   "source": []
  }
 ],
 "metadata": {
  "kernelspec": {
   "display_name": "Python 3",
   "language": "python",
   "name": "python3"
  },
  "language_info": {
   "codemirror_mode": {
    "name": "ipython",
    "version": 3
   },
   "file_extension": ".py",
   "mimetype": "text/x-python",
   "name": "python",
   "nbconvert_exporter": "python",
   "pygments_lexer": "ipython3",
   "version": "3.8.8"
  }
 },
 "nbformat": 4,
 "nbformat_minor": 5
}
