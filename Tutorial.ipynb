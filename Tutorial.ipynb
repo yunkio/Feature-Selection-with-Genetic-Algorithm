{
 "cells": [
  {
   "cell_type": "code",
   "execution_count": 43,
   "id": "9d2a1036-139a-44a6-ab4d-25f5592e7a8b",
   "metadata": {},
   "outputs": [],
   "source": [
    "import numpy as np\n",
    "import pandas as pd\n",
    "import random\n",
    "import sklearn.preprocessing\n",
    "import statsmodels.api as sm\n",
    "from sklearn import datasets\n",
    "\n",
    "import matplotlib.pyplot as plt\n",
    "from tqdm import tqdm\n"
   ]
  },
  {
   "cell_type": "markdown",
   "id": "bcb2c152-31b3-4b85-9151-c1f5b0d4c99d",
   "metadata": {},
   "source": [
    "## Step 0. 데이터 준비"
   ]
  },
  {
   "cell_type": "markdown",
   "id": "bc84c52b-b3d6-4d34-bf6a-08437bcff501",
   "metadata": {},
   "source": [
    "본 튜토리얼에서 활용된 데이터는 King County, Washington State, USA의 부동산 가격 데이터입니다. 여러 변수를 활용해 타겟 변수인 부동산 가격을 예측하는 데이터입니다."
   ]
  },
  {
   "cell_type": "code",
   "execution_count": 44,
   "id": "e1dd0f35-1e99-4353-bb1a-05ad9d2a8cb6",
   "metadata": {},
   "outputs": [],
   "source": [
    "# 출처 : https://www.kaggle.com/datasets/shivachandel/kc-house-data\n",
    "data = pd.read_csv('data/Housesales/kc_house_data.csv')"
   ]
  },
  {
   "cell_type": "code",
   "execution_count": 45,
   "id": "3a39ec27-e42a-4cc5-9f9a-4e58027bfe3d",
   "metadata": {},
   "outputs": [],
   "source": [
    "X = data.drop(['price', 'date', 'id'], axis=1)\n",
    "columns = dict(zip(list(range(len(X.columns))), X.columns))\n",
    "X = sklearn.preprocessing.normalize(X, axis=1)\n",
    "y = data['price']"
   ]
  },
  {
   "cell_type": "code",
   "execution_count": 46,
   "id": "e63098b8-efd0-4003-9032-87598d51c3a2",
   "metadata": {},
   "outputs": [
    {
     "data": {
      "text/plain": [
       "{0: 'bedrooms',\n",
       " 1: 'bathrooms',\n",
       " 2: 'sqft_living',\n",
       " 3: 'sqft_lot',\n",
       " 4: 'floors',\n",
       " 5: 'waterfront',\n",
       " 6: 'view',\n",
       " 7: 'condition',\n",
       " 8: 'grade',\n",
       " 9: 'sqft_above',\n",
       " 10: 'sqft_basement',\n",
       " 11: 'yr_built',\n",
       " 12: 'yr_renovated',\n",
       " 13: 'zipcode',\n",
       " 14: 'lat',\n",
       " 15: 'long',\n",
       " 16: 'sqft_living15',\n",
       " 17: 'sqft_lot15'}"
      ]
     },
     "execution_count": 46,
     "metadata": {},
     "output_type": "execute_result"
    }
   ],
   "source": [
    "columns"
   ]
  },
  {
   "cell_type": "markdown",
   "id": "42408474-4fed-44d8-9721-f3200803b726",
   "metadata": {},
   "source": [
    "## Step 1. 초기화"
   ]
  },
  {
   "cell_type": "markdown",
   "id": "f4bbac7a-9b05-4d16-af7d-35230a3503af",
   "metadata": {},
   "source": [
    "염색체의 각 유전자마다 난수를 생성하여, 해당 변수를 사용할 것인지 혹은 사용하지 않을 것인지에 해당하는 1 혹은 0의 이진값으로 변환합니다."
   ]
  },
  {
   "cell_type": "code",
   "execution_count": 47,
   "id": "e084a821-c718-4f91-b3f8-d853ee5b65aa",
   "metadata": {},
   "outputs": [],
   "source": [
    "# Hyper Parameter\n",
    "population_size = 8\n",
    "cut_off = 0.8"
   ]
  },
  {
   "cell_type": "markdown",
   "id": "51753abe-0906-49a0-941c-389f46c33c88",
   "metadata": {},
   "source": [
    "* population_size : 한 세대에 몇개의 염섹체로 구성할 것인지를 정합니다.\n",
    "* cut_off : cut_off가 높을수록 더 적은 유전자로 염색체를 초기화하게 됩니다."
   ]
  },
  {
   "cell_type": "code",
   "execution_count": 48,
   "id": "ca70ffbf-3785-4c20-95ac-7e94687a3af2",
   "metadata": {},
   "outputs": [],
   "source": [
    "def make_chromosome(X, population_size, cut_off):\n",
    "    chromosome_list = []\n",
    "    for chromosome in range(population_size):\n",
    "        feature_random_number = []\n",
    "        for feature in range(X.shape[1]):    \n",
    "            if random.uniform(0,1) >= cut_off:\n",
    "                feature_random_number.append(1)\n",
    "            else:\n",
    "                feature_random_number.append(0)\n",
    "        chromosome_list.append(feature_random_number)\n",
    "    return chromosome_list"
   ]
  },
  {
   "cell_type": "code",
   "execution_count": 49,
   "id": "a95fb1cd-969f-4ebd-a56d-f04a99f87db3",
   "metadata": {},
   "outputs": [],
   "source": [
    "chromosome_list = make_chromosome(X, population_size, cut_off)"
   ]
  },
  {
   "cell_type": "code",
   "execution_count": 50,
   "id": "20433368-bec5-4faf-94e9-ce2fd04f5c23",
   "metadata": {},
   "outputs": [
    {
     "data": {
      "text/plain": [
       "[[0, 0, 1, 0, 0, 1, 0, 1, 0, 0, 0, 0, 0, 1, 0, 0, 1, 0],\n",
       " [0, 0, 0, 1, 0, 0, 1, 0, 0, 1, 0, 1, 0, 0, 0, 0, 1, 0],\n",
       " [0, 0, 0, 0, 0, 0, 0, 1, 0, 1, 0, 0, 0, 0, 0, 0, 0, 1],\n",
       " [0, 1, 0, 1, 0, 0, 0, 1, 1, 0, 0, 0, 0, 0, 0, 0, 0, 0],\n",
       " [0, 0, 0, 0, 0, 0, 0, 0, 0, 0, 0, 0, 1, 1, 0, 1, 1, 0],\n",
       " [0, 0, 0, 0, 0, 0, 0, 0, 0, 1, 0, 0, 0, 1, 0, 0, 0, 0],\n",
       " [0, 0, 1, 0, 0, 0, 0, 0, 0, 0, 1, 0, 0, 0, 0, 0, 0, 0],\n",
       " [1, 1, 0, 1, 0, 0, 0, 1, 0, 0, 0, 0, 0, 0, 0, 0, 0, 0]]"
      ]
     },
     "execution_count": 50,
     "metadata": {},
     "output_type": "execute_result"
    }
   ],
   "source": [
    "chromosome_list"
   ]
  },
  {
   "cell_type": "markdown",
   "id": "2688c797-78d1-42c1-ae72-e634158b3344",
   "metadata": {},
   "source": [
    "## Step2. 모델 학습"
   ]
  },
  {
   "cell_type": "markdown",
   "id": "bc15fef2-dbb6-4aac-a35c-b67cb2c72526",
   "metadata": {},
   "source": [
    "위에서 생성한 각 염색체를 이용하여 각각의 모델을 학습 시킵니다. 본 튜토리얼에서는 선형 회귀를 사용하며, 평가 지표로는 adjusted r squared 값을 사용하게 됩니다."
   ]
  },
  {
   "cell_type": "code",
   "execution_count": 51,
   "id": "4e9d6672-45ba-475a-b8e2-9ba7986f154a",
   "metadata": {},
   "outputs": [],
   "source": [
    "def train_chromosome(X, chromosome_list, metric='adjusted_r_squared'):\n",
    "    score_list = []\n",
    "    for chromosome in range(population_size):\n",
    "        indices = [i for i,x in enumerate(chromosome_list[chromosome]) if x == 1]\n",
    "        X_selected = sm.add_constant(X[:,indices])\n",
    "        model = sm.OLS(y, X_selected).fit()\n",
    "        \n",
    "        if metric == 'adjusted_r_squared': \n",
    "            score = model.rsquared_adj\n",
    "        score_list.append(score)\n",
    "    return score_list"
   ]
  },
  {
   "cell_type": "code",
   "execution_count": 52,
   "id": "1c4921bb-10de-4ae0-a3fc-165b0fd3cc05",
   "metadata": {},
   "outputs": [],
   "source": [
    "score_list = train_chromosome(X, chromosome_list, metric='adjusted_r_squared')"
   ]
  },
  {
   "cell_type": "code",
   "execution_count": 53,
   "id": "bdd84946-1fd4-434a-bdad-2bcc5ab789c3",
   "metadata": {},
   "outputs": [
    {
     "data": {
      "text/plain": [
       "[0.5369017224550066,\n",
       " 0.4834915191948178,\n",
       " 0.353649421268346,\n",
       " 0.428319143506552,\n",
       " 0.37609685094505074,\n",
       " 0.3585379040198917,\n",
       " 0.4560872884670568,\n",
       " 0.2857318190534195]"
      ]
     },
     "execution_count": 53,
     "metadata": {},
     "output_type": "execute_result"
    }
   ],
   "source": [
    "score_list"
   ]
  },
  {
   "cell_type": "markdown",
   "id": "f4a911c5-9796-455a-a320-cda280f8f1b0",
   "metadata": {},
   "source": [
    "## Step3. 적합도 평가"
   ]
  },
  {
   "cell_type": "markdown",
   "id": "61d4ce21-ad4b-4b02-a1fc-dd51873439c7",
   "metadata": {},
   "source": [
    "Step 2의 모델 학습 단계에서 구해낸 점수를 활용하여 각 염색체의 적합도를 평가합니다. 만약 같은 성능을 보이는 염색체들이 있다면 더 적은 변수를 사용한 경우를 더 우수하게 평가합니다. \n",
    "\n",
    "각 염색체의 점수를 활용하여 가중치를 계산하며, 가중치는 부모로 선택 될 확률로 사용됩니다. 뛰어난 염색체일수록 부모로 선택 될 확률이 높습니다.\n",
    "\n",
    "또한 가장 우수한 염색체는 교배 여부와 상관없이 다음 세대로 계승하게 되며, 이때 얼마나 많은 염색체를 다음 세대로 보낼 것인지 설정 가능합니다."
   ]
  },
  {
   "cell_type": "code",
   "execution_count": 54,
   "id": "b0a8823a-4173-4570-a9b2-e931ac77c462",
   "metadata": {},
   "outputs": [],
   "source": [
    "def evaluate_chromosome(score_list, chromosome_list, elitism = 1):\n",
    "    seq = sorted(score_list, reverse=True) \n",
    "    rank = [seq.index(v) for v in score_list]\n",
    "    score_for_weight = score_list - min(score_list)\n",
    "    sum_score = sum(score_for_weight)\n",
    "    weight = [(score / sum_score) for score in score_for_weight]\n",
    "    feature_num = [sum(i) for i in chromosome_list]\n",
    "    eval_result = pd.DataFrame([score_list, rank, weight, feature_num]).T\n",
    "    eval_result.columns = ['score', 'rank', 'weight', 'feature_num']\n",
    "    eval_result['rank'] = eval_result.loc[:, ['rank']].astype('int')\n",
    "    eval_result['feature_num'] = eval_result.loc[:, ['feature_num']].astype('int')\n",
    "    \n",
    "    if elitism:\n",
    "        elite = eval_result.drop_duplicates().sort_values(['rank', 'feature_num']).index[:elitism*2]\n",
    "    else:\n",
    "        elite = False\n",
    "        \n",
    "    return eval_result, list(elite)"
   ]
  },
  {
   "cell_type": "markdown",
   "id": "f2c1bdeb-b830-444b-b583-430b3440fbef",
   "metadata": {},
   "source": [
    "elitism은 제일 우수한 염색체 중 몇 쌍을 다음 세대로 보낼 것인지를 결정하는 하이퍼 파라미터입니다."
   ]
  },
  {
   "cell_type": "code",
   "execution_count": 55,
   "id": "436c6dba-2ad2-488b-9af8-8181d7e3cf61",
   "metadata": {},
   "outputs": [],
   "source": [
    "eval_result, elite = evaluate_chromosome(score_list, chromosome_list)"
   ]
  },
  {
   "cell_type": "code",
   "execution_count": 56,
   "id": "bceef1ca-d3ce-45b9-9dd4-5c25aef5f012",
   "metadata": {},
   "outputs": [
    {
     "data": {
      "text/html": [
       "<div>\n",
       "<style scoped>\n",
       "    .dataframe tbody tr th:only-of-type {\n",
       "        vertical-align: middle;\n",
       "    }\n",
       "\n",
       "    .dataframe tbody tr th {\n",
       "        vertical-align: top;\n",
       "    }\n",
       "\n",
       "    .dataframe thead th {\n",
       "        text-align: right;\n",
       "    }\n",
       "</style>\n",
       "<table border=\"1\" class=\"dataframe\">\n",
       "  <thead>\n",
       "    <tr style=\"text-align: right;\">\n",
       "      <th></th>\n",
       "      <th>score</th>\n",
       "      <th>rank</th>\n",
       "      <th>weight</th>\n",
       "      <th>feature_num</th>\n",
       "    </tr>\n",
       "  </thead>\n",
       "  <tbody>\n",
       "    <tr>\n",
       "      <th>0</th>\n",
       "      <td>0.536902</td>\n",
       "      <td>0</td>\n",
       "      <td>0.252950</td>\n",
       "      <td>5</td>\n",
       "    </tr>\n",
       "    <tr>\n",
       "      <th>1</th>\n",
       "      <td>0.483492</td>\n",
       "      <td>1</td>\n",
       "      <td>0.199162</td>\n",
       "      <td>5</td>\n",
       "    </tr>\n",
       "    <tr>\n",
       "      <th>2</th>\n",
       "      <td>0.353649</td>\n",
       "      <td>6</td>\n",
       "      <td>0.068399</td>\n",
       "      <td>3</td>\n",
       "    </tr>\n",
       "    <tr>\n",
       "      <th>3</th>\n",
       "      <td>0.428319</td>\n",
       "      <td>3</td>\n",
       "      <td>0.143598</td>\n",
       "      <td>4</td>\n",
       "    </tr>\n",
       "    <tr>\n",
       "      <th>4</th>\n",
       "      <td>0.376097</td>\n",
       "      <td>4</td>\n",
       "      <td>0.091006</td>\n",
       "      <td>4</td>\n",
       "    </tr>\n",
       "    <tr>\n",
       "      <th>5</th>\n",
       "      <td>0.358538</td>\n",
       "      <td>5</td>\n",
       "      <td>0.073322</td>\n",
       "      <td>2</td>\n",
       "    </tr>\n",
       "    <tr>\n",
       "      <th>6</th>\n",
       "      <td>0.456087</td>\n",
       "      <td>2</td>\n",
       "      <td>0.171563</td>\n",
       "      <td>2</td>\n",
       "    </tr>\n",
       "    <tr>\n",
       "      <th>7</th>\n",
       "      <td>0.285732</td>\n",
       "      <td>7</td>\n",
       "      <td>0.000000</td>\n",
       "      <td>4</td>\n",
       "    </tr>\n",
       "  </tbody>\n",
       "</table>\n",
       "</div>"
      ],
      "text/plain": [
       "      score  rank    weight  feature_num\n",
       "0  0.536902     0  0.252950            5\n",
       "1  0.483492     1  0.199162            5\n",
       "2  0.353649     6  0.068399            3\n",
       "3  0.428319     3  0.143598            4\n",
       "4  0.376097     4  0.091006            4\n",
       "5  0.358538     5  0.073322            2\n",
       "6  0.456087     2  0.171563            2\n",
       "7  0.285732     7  0.000000            4"
      ]
     },
     "execution_count": 56,
     "metadata": {},
     "output_type": "execute_result"
    }
   ],
   "source": [
    "eval_result"
   ]
  },
  {
   "cell_type": "code",
   "execution_count": 57,
   "id": "e567b3aa-2817-4645-a60e-4653fd42988b",
   "metadata": {},
   "outputs": [
    {
     "data": {
      "text/plain": [
       "[0, 1]"
      ]
     },
     "execution_count": 57,
     "metadata": {},
     "output_type": "execute_result"
    }
   ],
   "source": [
    "elite"
   ]
  },
  {
   "cell_type": "markdown",
   "id": "527c0422-5ee4-4531-8f74-57259e3a5bf0",
   "metadata": {},
   "source": [
    "## Step4. 부모 염색체 선택"
   ]
  },
  {
   "cell_type": "markdown",
   "id": "57d6d6a7-5167-4672-b5dc-a231efbaca96",
   "metadata": {},
   "source": [
    "위에서 계산한 가중치를 활용하여 부모를 선택하게 됩니다."
   ]
  },
  {
   "cell_type": "code",
   "execution_count": 58,
   "id": "ee1ab7ee-1fb1-407f-8342-7ce908007586",
   "metadata": {},
   "outputs": [],
   "source": [
    "def select_parents(chromosome_list, eval_result):\n",
    "    selected = np.random.choice(range(len(chromosome_list)), 2, p=eval_result['weight'], replace=False)\n",
    "    parent_1, parent_2 = chromosome_list[selected[0]], chromosome_list[selected[1]]\n",
    "    return parent_1, parent_2"
   ]
  },
  {
   "cell_type": "code",
   "execution_count": 59,
   "id": "59035366-348a-493a-ab5e-16f4ce049a87",
   "metadata": {},
   "outputs": [],
   "source": [
    "parent_1, parent_2 = select_parents(chromosome_list, eval_result)"
   ]
  },
  {
   "cell_type": "code",
   "execution_count": 60,
   "id": "a2b24707-0201-4e8f-b058-0480a205d971",
   "metadata": {},
   "outputs": [
    {
     "data": {
      "text/plain": [
       "[0, 0, 1, 0, 0, 1, 0, 1, 0, 0, 0, 0, 0, 1, 0, 0, 1, 0]"
      ]
     },
     "execution_count": 60,
     "metadata": {},
     "output_type": "execute_result"
    }
   ],
   "source": [
    "parent_1"
   ]
  },
  {
   "cell_type": "code",
   "execution_count": 61,
   "id": "b66a6b81-82bc-4398-acf9-3075b5a54dc3",
   "metadata": {},
   "outputs": [
    {
     "data": {
      "text/plain": [
       "[0, 0, 1, 0, 0, 0, 0, 0, 0, 0, 1, 0, 0, 0, 0, 0, 0, 0]"
      ]
     },
     "execution_count": 61,
     "metadata": {},
     "output_type": "execute_result"
    }
   ],
   "source": [
    "parent_2"
   ]
  },
  {
   "cell_type": "markdown",
   "id": "0aa785fb-6e76-46ba-9727-11645b2f6f94",
   "metadata": {},
   "source": [
    "## Step5. 교배"
   ]
  },
  {
   "cell_type": "markdown",
   "id": "081ae4e8-6674-41a1-8324-141973877ea6",
   "metadata": {},
   "source": [
    "Step4에서 선택된 부모들로 교배를 진행합니다. 부모의 유전 형질을 섞음으로써 더 우수한 염색체가 등장하도록 합니다. 이때 Crossover point는 각 염색체를 몇개의 구간으로 나눌 것인지를 결정하며, 0부터 n(유전자의 갯수)-1만큼의 범위를 설정 가능합니다.\n",
    "\n",
    "또한 각 유전자마자 무작위로 변이할 확률을 부여합니다. 이와 같은 Exploration을 통해 local optima에 빠지지 않도록 돕습니다. 변이율이 높을수록 더 많은 변이가 일어나지만 수렴이 느려질 수 있습니다. 반면 변이율이 너무 낮다면 local optima에 빠질 위험이 큽니다."
   ]
  },
  {
   "cell_type": "code",
   "execution_count": 62,
   "id": "4c55dfae-a172-41ba-a3e0-e31b8846fbed",
   "metadata": {},
   "outputs": [],
   "source": [
    "crossover_num = 5\n",
    "mutation_rate = 0.01"
   ]
  },
  {
   "cell_type": "code",
   "execution_count": 63,
   "id": "44f9ccfa-2a1b-4721-876f-7ab365ec79c6",
   "metadata": {},
   "outputs": [],
   "source": [
    "def crossover(parent_1, parent_2, crossover_num, mutation_rate):\n",
    "    \n",
    "    # make crossover point\n",
    "    crossover_point = list(sorted(np.random.choice(range(1, len(parent_1)), crossover_num, replace=False)))\n",
    "    crossover_point.append(len(parent_1))\n",
    "    \n",
    "    # split with crossover point\n",
    "    parent_1_list = []\n",
    "    parent_2_list = []\n",
    "    for i, v in enumerate(crossover_point):\n",
    "        if i == 0:\n",
    "            parent_1_list.append(parent_1[:v])\n",
    "            parent_2_list.append(parent_2[:v])\n",
    "        else:\n",
    "            parent_1_list.append(parent_1[crossover_point[i-1]:v])\n",
    "            parent_2_list.append(parent_2[crossover_point[i-1]:v])\n",
    "            \n",
    "    # make new generations\n",
    "    new_genes = []\n",
    "    \n",
    "    # crossover\n",
    "    child_1, child_2 = [], []\n",
    "    for j in range(crossover_num+1):\n",
    "        p = random.uniform(0,1)\n",
    "        if p <= 0.5 : \n",
    "            child_1 += parent_1_list[j]\n",
    "            child_2 += parent_2_list[j]\n",
    "        else:\n",
    "            child_1 += parent_2_list[j]\n",
    "            child_2 += parent_1_list[j]\n",
    "\n",
    "    # mutation\n",
    "    for k in range(len(child_1)):\n",
    "        if random.uniform(0,1) <= mutation_rate:\n",
    "            if child_1[k] == 0:\n",
    "                child_1[k] = 1\n",
    "            else:\n",
    "                child_1[k] = 0\n",
    "\n",
    "        if random.uniform(0,1) <= mutation_rate:\n",
    "            if child_2[k] == 0:\n",
    "                child_2[k] = 1\n",
    "            else:\n",
    "                child_2[k] = 0\n",
    "\n",
    "    new_genes.append(child_1)\n",
    "    new_genes.append(child_2)\n",
    "        \n",
    "    return new_genes"
   ]
  },
  {
   "cell_type": "code",
   "execution_count": 64,
   "id": "8c137cdd-e227-4f0d-ae34-b2e7449ff9dc",
   "metadata": {},
   "outputs": [],
   "source": [
    "new_genes = crossover(parent_1, parent_2, crossover_num, mutation_rate)"
   ]
  },
  {
   "cell_type": "code",
   "execution_count": 65,
   "id": "f5c04a2b-6a1b-4b19-93ac-14f06c02e512",
   "metadata": {},
   "outputs": [
    {
     "data": {
      "text/plain": [
       "[[0, 0, 1, 0, 0, 1, 0, 0, 0, 0, 0, 0, 0, 1, 0, 0, 1, 0],\n",
       " [0, 0, 1, 0, 0, 0, 0, 1, 0, 0, 1, 0, 0, 0, 0, 0, 0, 1]]"
      ]
     },
     "execution_count": 65,
     "metadata": {},
     "output_type": "execute_result"
    }
   ],
   "source": [
    "new_genes"
   ]
  },
  {
   "cell_type": "markdown",
   "id": "b50717c3-1305-494c-8d79-a64b451773bf",
   "metadata": {},
   "source": [
    "이와 같이 Step4와 Step5를 반복하여 population size 만큼의 염색체를 만들게 되고, 다 만들어지면 한 세대가 완성되며 다시 Step 2로 돌아가서 종료 조건을 만족할 때까지 반복합니다."
   ]
  },
  {
   "cell_type": "markdown",
   "id": "97e1de84-3a8b-4058-be3d-0ec5d390d2a3",
   "metadata": {},
   "source": [
    "---"
   ]
  },
  {
   "cell_type": "markdown",
   "id": "4bbce8ca-bf2f-488c-89a4-2bd9345ec5f2",
   "metadata": {},
   "source": [
    "# Run Algorithm"
   ]
  },
  {
   "cell_type": "markdown",
   "id": "511edc32-055e-40f3-914b-adb457a0273e",
   "metadata": {},
   "source": [
    "앞서서 알고리즘을 단계별로 살펴보았습니다. 이제 위와 같이 구현된 알고리즘을 활용하여 본격적으로 학습을 진행해보겠습니다."
   ]
  },
  {
   "cell_type": "code",
   "execution_count": 66,
   "id": "62108873-1626-4256-a269-e89e713c320c",
   "metadata": {},
   "outputs": [],
   "source": [
    "# Hyper Parameter\n",
    "population_size = 8\n",
    "cut_off = 0.7\n",
    "crossover_num = 17\n",
    "mutation_rate = 0.03\n",
    "elitism = 1\n",
    "metric = 'adjusted_r_squared'\n",
    "early_stopping = 50"
   ]
  },
  {
   "cell_type": "code",
   "execution_count": 67,
   "id": "8fa137f6-82a4-4323-a390-ec693f06cc5b",
   "metadata": {},
   "outputs": [
    {
     "name": "stderr",
     "output_type": "stream",
     "text": [
      "  8%|██████                                                                          | 76/1000 [00:05<01:08, 13.54it/s]\n"
     ]
    }
   ],
   "source": [
    "generation_num = 1000\n",
    "stag = 0\n",
    "best_score = 0\n",
    "history = []\n",
    "elite_history = []\n",
    "\n",
    "for i in tqdm(range(generation_num)):\n",
    "    if i == 0:\n",
    "        chromosome_list = make_chromosome(X, population_size, cut_off)\n",
    "    else:\n",
    "        chromosome_list = child_list\n",
    "    \n",
    "    score_list = train_chromosome(X, chromosome_list, metric)\n",
    "    eval_result, elite = evaluate_chromosome(score_list, chromosome_list, elitism)\n",
    "    child_list = [chromosome_list[elite[i]] for i in range(elitism*2)]\n",
    "    \n",
    "    for i in range(int((population_size/2) - elitism)):\n",
    "        parent_1, parent_2 = select_parents(chromosome_list, eval_result)\n",
    "        new_genes = crossover(parent_1, parent_2, crossover_num, mutation_rate)\n",
    "        child_list += new_genes\n",
    "    \n",
    "    history.append(max(score_list)) # r-squared\n",
    "    elite_history.append(chromosome_list[elite[0]])\n",
    "    \n",
    "    if max(score_list) == best_score:\n",
    "        stag += 1\n",
    "    else:\n",
    "        stag = 0\n",
    "\n",
    "    best_score = history[-1]\n",
    "        \n",
    "    if stag == early_stopping:\n",
    "        break\n",
    "        "
   ]
  },
  {
   "cell_type": "code",
   "execution_count": 68,
   "id": "1c4cd245-0f68-4360-89cb-edfe005de93c",
   "metadata": {},
   "outputs": [
    {
     "data": {
      "image/png": "[encoded data removed]",
      "text/plain": [
       "<Figure size 1440x720 with 1 Axes>"
      ]
     },
     "metadata": {
      "needs_background": "light"
     },
     "output_type": "display_data"
    }
   ],
   "source": [
    "plt.figure(figsize=(20, 10))\n",
    "plt.plot(history[0:])\n",
    "plt.xlabel('generations', fontsize=15)\n",
    "plt.ylabel('adjusted r-squared', fontsize=15)\n",
    "plt.show()"
   ]
  },
  {
   "cell_type": "code",
   "execution_count": 69,
   "id": "1064295c-a992-4cf6-a44e-1462f4a28ba9",
   "metadata": {},
   "outputs": [
    {
     "data": {
      "text/plain": [
       "[1, 1, 0, 1, 1, 1, 1, 1, 1, 1, 1, 1, 1, 1, 1, 1, 1, 1]"
      ]
     },
     "execution_count": 69,
     "metadata": {},
     "output_type": "execute_result"
    }
   ],
   "source": [
    "elite_history[-1]"
   ]
  },
  {
   "cell_type": "code",
   "execution_count": 70,
   "id": "d7ea7b69-45ec-4775-96a1-ed6e6fa7419b",
   "metadata": {},
   "outputs": [
    {
     "data": {
      "text/plain": [
       "{0: 'bedrooms',\n",
       " 1: 'bathrooms',\n",
       " 2: 'sqft_living',\n",
       " 3: 'sqft_lot',\n",
       " 4: 'floors',\n",
       " 5: 'waterfront',\n",
       " 6: 'view',\n",
       " 7: 'condition',\n",
       " 8: 'grade',\n",
       " 9: 'sqft_above',\n",
       " 10: 'sqft_basement',\n",
       " 11: 'yr_built',\n",
       " 12: 'yr_renovated',\n",
       " 13: 'zipcode',\n",
       " 14: 'lat',\n",
       " 15: 'long',\n",
       " 16: 'sqft_living15',\n",
       " 17: 'sqft_lot15'}"
      ]
     },
     "execution_count": 70,
     "metadata": {},
     "output_type": "execute_result"
    }
   ],
   "source": [
    "columns"
   ]
  },
  {
   "cell_type": "markdown",
   "id": "335455e3-a519-4b8c-bfeb-2d103b6d1063",
   "metadata": {},
   "source": [
    "76 세대에서 학습이 멈추었으며, 하나의 변수를 제외한 모든 변수를 사용한 것을 확인할 수 있습니다. 제외된 변수는 **sqft_basement**이며 해당 변수는 부동산 가격과 큰 관련이 없다고 볼 수 있습니다. "
   ]
  },
  {
   "cell_type": "markdown",
   "id": "5d7822e8-d362-47a3-a27d-3ec919aab37d",
   "metadata": {},
   "source": [
    "## 평가지표 : rmse "
   ]
  },
  {
   "cell_type": "markdown",
   "id": "ef72dc80-c6c7-48a6-8c2f-ab8dbb10ce82",
   "metadata": {},
   "source": [
    "앞서 한 단계씩 차례대로 구현하며 평가지표로 adjusted r-squared 를 활용하여 변수 선택법을 진행했습니다. 이제 모듈화 된 코드를 통해 다른 평가지표인 RMSE로 모델을 학습시켜보겠습니다. \n",
    "\n",
    "여기서는 hyper parameter들은 cut_off를 제외하고 나머지는 기존에 설정된 default 값을 사용하겠습니다."
   ]
  },
  {
   "cell_type": "code",
   "execution_count": 71,
   "id": "592e3987-5f5a-4ed1-8a17-7a81c15101fc",
   "metadata": {},
   "outputs": [
    {
     "name": "stderr",
     "output_type": "stream",
     "text": [
      "  7%|█████▋                                                                          | 71/1000 [00:18<03:56,  3.93it/s]\n"
     ]
    }
   ],
   "source": [
    "from model import genetic_algorithm\n",
    "history, elite_history = genetic_algorithm(X, y, metric='rmse')"
   ]
  },
  {
   "cell_type": "code",
   "execution_count": 72,
   "id": "225e685a-de42-445d-b049-042770d3bade",
   "metadata": {},
   "outputs": [
    {
     "data": {
      "image/png": "[encoded data removed]",
      "text/plain": [
       "<Figure size 1440x720 with 1 Axes>"
      ]
     },
     "metadata": {
      "needs_background": "light"
     },
     "output_type": "display_data"
    }
   ],
   "source": [
    "plt.figure(figsize=(20, 10))\n",
    "plt.plot(history[0:])\n",
    "plt.xlabel('generations', fontsize=15)\n",
    "plt.ylabel('RMSE', fontsize=15)\n",
    "plt.show()"
   ]
  },
  {
   "cell_type": "code",
   "execution_count": 73,
   "id": "6c16d0e3-cbd4-4e00-9590-47777779b583",
   "metadata": {},
   "outputs": [
    {
     "data": {
      "text/plain": [
       "[0, 1, 0, 0, 0, 1, 1, 1, 1, 0, 1, 1, 0, 1, 0, 1, 0, 0]"
      ]
     },
     "execution_count": 73,
     "metadata": {},
     "output_type": "execute_result"
    }
   ],
   "source": [
    "elite_history[0]"
   ]
  },
  {
   "cell_type": "markdown",
   "id": "46f84806-c139-46a8-a598-e149ad0a16cf",
   "metadata": {},
   "source": [
    "이전과 꽤 다른 결과가 나왔습니다. 훨씬 적은 수의 변수가 선택 되었습니다. 단 validation set 및 test set을 따로 구분하지 않았으므로 과적합의 위험이 있습니다."
   ]
  },
  {
   "cell_type": "markdown",
   "id": "6f0415f3-daa0-4356-945b-ed1abdb7889b",
   "metadata": {},
   "source": [
    "# Dataset : Diabates"
   ]
  },
  {
   "cell_type": "markdown",
   "id": "4311f8d8-10e8-41c9-a495-e59d873ef888",
   "metadata": {},
   "source": [
    "이제 다른 데이터도 한번 시도해보겠습니다. 여기서 사용하게 될 데이터는 당뇨병 데이터로, 1년 후의 당뇨병 경과를 예측하는 것이 목적입니다."
   ]
  },
  {
   "cell_type": "code",
   "execution_count": 20,
   "id": "11183e58-68f7-4045-a33f-7257d727c2be",
   "metadata": {},
   "outputs": [],
   "source": [
    "from sklearn.datasets import load_diabetes\n",
    "\n",
    "diabetes = load_diabetes()\n",
    "df = pd.DataFrame(diabetes.data, columns=diabetes.feature_names)\n",
    "df[\"target\"] = diabetes.target\n",
    "\n",
    "X = df.drop(['target'], axis=1)\n",
    "columns = dict(zip(list(range(len(X.columns))), X.columns))\n",
    "X = sklearn.preprocessing.normalize(X, axis=1)\n",
    "y = df['target']"
   ]
  },
  {
   "cell_type": "code",
   "execution_count": 25,
   "id": "bbb17c84-6bee-46c0-8f57-9968dec9d149",
   "metadata": {},
   "outputs": [
    {
     "data": {
      "text/plain": [
       "{0: 'age',\n",
       " 1: 'sex',\n",
       " 2: 'bmi',\n",
       " 3: 'bp',\n",
       " 4: 's1',\n",
       " 5: 's2',\n",
       " 6: 's3',\n",
       " 7: 's4',\n",
       " 8: 's5',\n",
       " 9: 's6'}"
      ]
     },
     "execution_count": 25,
     "metadata": {},
     "output_type": "execute_result"
    }
   ],
   "source": [
    "columns"
   ]
  },
  {
   "cell_type": "markdown",
   "id": "e9a44fb0-3dc3-4921-8b05-a35b8fc330ec",
   "metadata": {},
   "source": [
    "### adjusted_r_squared"
   ]
  },
  {
   "cell_type": "code",
   "execution_count": 21,
   "id": "ab33dd7a-eab4-432c-b340-0b84d8249253",
   "metadata": {},
   "outputs": [
    {
     "name": "stderr",
     "output_type": "stream",
     "text": [
      "  6%|████▉                                                                           | 61/1000 [00:00<00:12, 73.96it/s]\n"
     ]
    }
   ],
   "source": [
    "history, elite_history = genetic_algorithm(X, y, metric='adjusted_r_squared')"
   ]
  },
  {
   "cell_type": "code",
   "execution_count": 22,
   "id": "84e091df-751e-4adc-b506-ac5768189bc7",
   "metadata": {},
   "outputs": [
    {
     "data": {
      "image/png": "[encoded data removed]",
      "text/plain": [
       "<Figure size 1440x720 with 1 Axes>"
      ]
     },
     "metadata": {
      "needs_background": "light"
     },
     "output_type": "display_data"
    }
   ],
   "source": [
    "plt.figure(figsize=(20, 10))\n",
    "plt.plot(history[0:])\n",
    "plt.xlabel('generations', fontsize=15)\n",
    "plt.ylabel('adjusted r-squared', fontsize=15)\n",
    "plt.show()"
   ]
  },
  {
   "cell_type": "code",
   "execution_count": 23,
   "id": "3cde2334-f738-40a2-97fc-d1a3ee230815",
   "metadata": {},
   "outputs": [
    {
     "data": {
      "text/plain": [
       "[0, 1, 1, 1, 1, 0, 0, 1, 1, 1]"
      ]
     },
     "execution_count": 23,
     "metadata": {},
     "output_type": "execute_result"
    }
   ],
   "source": [
    "elite_history[-1]"
   ]
  },
  {
   "cell_type": "markdown",
   "id": "0f9dddc7-b320-4de9-91dd-2bb593349de3",
   "metadata": {},
   "source": [
    "앞서 살펴보았던 데이터에 비해 훨씬 빠르게 수렴했으며, 변수의 수가 적기 때문이라고 추측 해볼 수 있습니다. 3개의 변수(age, s2, s3)가 선택되지 않았습니다. RMSE로도 반복해보겠습니다."
   ]
  },
  {
   "cell_type": "markdown",
   "id": "34adb1e7-53f9-4106-94a9-6eea3ff778ed",
   "metadata": {},
   "source": [
    "### RMSE"
   ]
  },
  {
   "cell_type": "code",
   "execution_count": 26,
   "id": "f9cec826-25f1-4d31-aea5-55be2e796178",
   "metadata": {},
   "outputs": [
    {
     "name": "stderr",
     "output_type": "stream",
     "text": [
      "  6%|████▌                                                                           | 57/1000 [00:00<00:12, 73.77it/s]\n"
     ]
    }
   ],
   "source": [
    "history, elite_history = genetic_algorithm(X, y, metric='rmse')"
   ]
  },
  {
   "cell_type": "code",
   "execution_count": 31,
   "id": "94e1824a-fc4d-4c89-b5f3-b4bc02a187b7",
   "metadata": {},
   "outputs": [
    {
     "data": {
      "image/png": "[encoded data removed]",
      "text/plain": [
       "<Figure size 1440x720 with 1 Axes>"
      ]
     },
     "metadata": {
      "needs_background": "light"
     },
     "output_type": "display_data"
    }
   ],
   "source": [
    "plt.figure(figsize=(20, 10))\n",
    "plt.plot(history[0:])\n",
    "plt.xlabel('generations', fontsize=15)\n",
    "plt.ylabel('RMSE', fontsize=15)\n",
    "plt.show()"
   ]
  },
  {
   "cell_type": "code",
   "execution_count": 30,
   "id": "c9c90b60-7c9c-4158-bb88-0b2443199908",
   "metadata": {},
   "outputs": [
    {
     "data": {
      "text/plain": [
       "[0, 1, 1, 1, 1, 0, 0, 1, 1, 1]"
      ]
     },
     "execution_count": 30,
     "metadata": {},
     "output_type": "execute_result"
    }
   ],
   "source": [
    "elite_history[-1]"
   ]
  },
  {
   "cell_type": "markdown",
   "id": "f1312615-293e-4bd8-adaf-a76377f64979",
   "metadata": {},
   "source": [
    "마찬가지로 빠르게 수렴했으며 결과도 같습니다."
   ]
  },
  {
   "cell_type": "code",
   "execution_count": null,
   "id": "1e389c1e-feb7-4501-8f98-7a1338f4db80",
   "metadata": {},
   "outputs": [],
   "source": []
  }
 ],
 "metadata": {
  "kernelspec": {
   "display_name": "Python 3",
   "language": "python",
   "name": "python3"
  },
  "language_info": {
   "codemirror_mode": {
    "name": "ipython",
    "version": 3
   },
   "file_extension": ".py",
   "mimetype": "text/x-python",
   "name": "python",
   "nbconvert_exporter": "python",
   "pygments_lexer": "ipython3",
   "version": "3.8.8"
  }
 },
 "nbformat": 4,
 "nbformat_minor": 5
}
